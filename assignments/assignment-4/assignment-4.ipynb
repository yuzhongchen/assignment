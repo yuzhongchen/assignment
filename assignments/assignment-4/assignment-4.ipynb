{
  "cells": [
    {
      "cell_type": "code",
      "execution_count": 37,
      "metadata": {
        "id": "bJvw-FG9eVk3",
        "outputId": "fe1b5c8a-a32a-407f-931d-5756bc0cf7fb",
        "colab": {
          "base_uri": "https://localhost:8080/"
        }
      },
      "outputs": [
        {
          "output_type": "stream",
          "name": "stdout",
          "text": [
            "Reading package lists... Done\n",
            "Building dependency tree... Done\n",
            "Reading state information... Done\n",
            "Note, selecting 'libgraphviz-dev' instead of 'graphviz-dev'\n",
            "graphviz is already the newest version (2.42.2-6ubuntu0.1).\n",
            "libgraphviz-dev is already the newest version (2.42.2-6ubuntu0.1).\n",
            "0 upgraded, 0 newly installed, 0 to remove and 34 not upgraded.\n",
            "Requirement already satisfied: unified-planning[plot,pyperplan,tamer] in /usr/local/lib/python3.11/dist-packages (1.2.0)\n",
            "Requirement already satisfied: pyparsing in /usr/local/lib/python3.11/dist-packages (from unified-planning[plot,pyperplan,tamer]) (3.2.3)\n",
            "Requirement already satisfied: networkx in /usr/local/lib/python3.11/dist-packages (from unified-planning[plot,pyperplan,tamer]) (3.4.2)\n",
            "Requirement already satisfied: ConfigSpace in /usr/local/lib/python3.11/dist-packages (from unified-planning[plot,pyperplan,tamer]) (1.2.1)\n",
            "Requirement already satisfied: plotly in /usr/local/lib/python3.11/dist-packages (from unified-planning[plot,pyperplan,tamer]) (5.24.1)\n",
            "Requirement already satisfied: matplotlib==3.7.3 in /usr/local/lib/python3.11/dist-packages (from unified-planning[plot,pyperplan,tamer]) (3.7.3)\n",
            "Requirement already satisfied: kaleido in /usr/local/lib/python3.11/dist-packages (from unified-planning[plot,pyperplan,tamer]) (0.2.1)\n",
            "Requirement already satisfied: pygraphviz in /usr/local/lib/python3.11/dist-packages (from unified-planning[plot,pyperplan,tamer]) (1.14)\n",
            "Requirement already satisfied: graphviz in /usr/local/lib/python3.11/dist-packages (from unified-planning[plot,pyperplan,tamer]) (0.20.3)\n",
            "Requirement already satisfied: pandas in /usr/local/lib/python3.11/dist-packages (from unified-planning[plot,pyperplan,tamer]) (2.2.2)\n",
            "Requirement already satisfied: up-pyperplan~=1.1.0 in /usr/local/lib/python3.11/dist-packages (from unified-planning[plot,pyperplan,tamer]) (1.1.0)\n",
            "Requirement already satisfied: up-tamer~=1.1.4 in /usr/local/lib/python3.11/dist-packages (from unified-planning[plot,pyperplan,tamer]) (1.1.5)\n",
            "Requirement already satisfied: contourpy>=1.0.1 in /usr/local/lib/python3.11/dist-packages (from matplotlib==3.7.3->unified-planning[plot,pyperplan,tamer]) (1.3.2)\n",
            "Requirement already satisfied: cycler>=0.10 in /usr/local/lib/python3.11/dist-packages (from matplotlib==3.7.3->unified-planning[plot,pyperplan,tamer]) (0.12.1)\n",
            "Requirement already satisfied: fonttools>=4.22.0 in /usr/local/lib/python3.11/dist-packages (from matplotlib==3.7.3->unified-planning[plot,pyperplan,tamer]) (4.57.0)\n",
            "Requirement already satisfied: kiwisolver>=1.0.1 in /usr/local/lib/python3.11/dist-packages (from matplotlib==3.7.3->unified-planning[plot,pyperplan,tamer]) (1.4.8)\n",
            "Requirement already satisfied: numpy<2,>=1.20 in /usr/local/lib/python3.11/dist-packages (from matplotlib==3.7.3->unified-planning[plot,pyperplan,tamer]) (1.26.4)\n",
            "Requirement already satisfied: packaging>=20.0 in /usr/local/lib/python3.11/dist-packages (from matplotlib==3.7.3->unified-planning[plot,pyperplan,tamer]) (24.2)\n",
            "Requirement already satisfied: pillow>=6.2.0 in /usr/local/lib/python3.11/dist-packages (from matplotlib==3.7.3->unified-planning[plot,pyperplan,tamer]) (11.1.0)\n",
            "Requirement already satisfied: python-dateutil>=2.7 in /usr/local/lib/python3.11/dist-packages (from matplotlib==3.7.3->unified-planning[plot,pyperplan,tamer]) (2.8.2)\n",
            "Requirement already satisfied: pyperplan==2.1 in /usr/local/lib/python3.11/dist-packages (from up-pyperplan~=1.1.0->unified-planning[plot,pyperplan,tamer]) (2.1)\n",
            "Requirement already satisfied: wheel in /usr/local/lib/python3.11/dist-packages (from pyperplan==2.1->up-pyperplan~=1.1.0->unified-planning[plot,pyperplan,tamer]) (0.45.1)\n",
            "Requirement already satisfied: pytamer~=0.1.21 in /usr/local/lib/python3.11/dist-packages (from up-tamer~=1.1.4->unified-planning[plot,pyperplan,tamer]) (0.1.21)\n",
            "Requirement already satisfied: scipy in /usr/local/lib/python3.11/dist-packages (from ConfigSpace->unified-planning[plot,pyperplan,tamer]) (1.14.1)\n",
            "Requirement already satisfied: typing_extensions in /usr/local/lib/python3.11/dist-packages (from ConfigSpace->unified-planning[plot,pyperplan,tamer]) (4.13.2)\n",
            "Requirement already satisfied: more_itertools in /usr/local/lib/python3.11/dist-packages (from ConfigSpace->unified-planning[plot,pyperplan,tamer]) (10.6.0)\n",
            "Requirement already satisfied: pytz>=2020.1 in /usr/local/lib/python3.11/dist-packages (from pandas->unified-planning[plot,pyperplan,tamer]) (2025.2)\n",
            "Requirement already satisfied: tzdata>=2022.7 in /usr/local/lib/python3.11/dist-packages (from pandas->unified-planning[plot,pyperplan,tamer]) (2025.2)\n",
            "Requirement already satisfied: tenacity>=6.2.0 in /usr/local/lib/python3.11/dist-packages (from plotly->unified-planning[plot,pyperplan,tamer]) (9.1.2)\n",
            "Requirement already satisfied: six>=1.5 in /usr/local/lib/python3.11/dist-packages (from python-dateutil>=2.7->matplotlib==3.7.3->unified-planning[plot,pyperplan,tamer]) (1.17.0)\n"
          ]
        }
      ],
      "source": [
        "!apt install graphviz graphviz-dev\n",
        "%pip install unified-planning[pyperplan,tamer,plot]"
      ]
    },
    {
      "cell_type": "code",
      "execution_count": 7,
      "metadata": {
        "id": "v1A91-h0eVk7",
        "outputId": "a0e56bc8-a9ef-4d1c-a19f-28e4c90c11d7",
        "colab": {
          "base_uri": "https://localhost:8080/"
        }
      },
      "outputs": [
        {
          "output_type": "stream",
          "name": "stdout",
          "text": [
            "--2025-04-27 23:37:15--  https://raw.githubusercontent.com/aiplan4eu/unified-planning/master/unified_planning/test/pddl/counters/domain.pddl\n",
            "Resolving raw.githubusercontent.com (raw.githubusercontent.com)... 185.199.108.133, 185.199.110.133, 185.199.109.133, ...\n",
            "Connecting to raw.githubusercontent.com (raw.githubusercontent.com)|185.199.108.133|:443... connected.\n",
            "HTTP request sent, awaiting response... 200 OK\n",
            "Length: 843 [text/plain]\n",
            "Saving to: ‘/tmp/counters_domain.pddl’\n",
            "\n",
            "/tmp/counters_domai 100%[===================>]     843  --.-KB/s    in 0s      \n",
            "\n",
            "2025-04-27 23:37:16 (44.9 MB/s) - ‘/tmp/counters_domain.pddl’ saved [843/843]\n",
            "\n",
            "--2025-04-27 23:37:16--  https://raw.githubusercontent.com/aiplan4eu/unified-planning/master/unified_planning/test/pddl/counters/problem.pddl\n",
            "Resolving raw.githubusercontent.com (raw.githubusercontent.com)... 185.199.108.133, 185.199.109.133, 185.199.110.133, ...\n",
            "Connecting to raw.githubusercontent.com (raw.githubusercontent.com)|185.199.108.133|:443... connected.\n",
            "HTTP request sent, awaiting response... 200 OK\n",
            "Length: 446 [text/plain]\n",
            "Saving to: ‘/tmp/counters_problem.pddl’\n",
            "\n",
            "/tmp/counters_probl 100%[===================>]     446  --.-KB/s    in 0s      \n",
            "\n",
            "2025-04-27 23:37:16 (8.38 MB/s) - ‘/tmp/counters_problem.pddl’ saved [446/446]\n",
            "\n"
          ]
        }
      ],
      "source": [
        "!wget https://raw.githubusercontent.com/aiplan4eu/unified-planning/master/unified_planning/test/pddl/counters/domain.pddl -O /tmp/counters_domain.pddl\n",
        "!wget https://raw.githubusercontent.com/aiplan4eu/unified-planning/master/unified_planning/test/pddl/counters/problem.pddl -O /tmp/counters_problem.pddl"
      ]
    },
    {
      "cell_type": "code",
      "source": [
        "!wget https://raw.githubusercontent.com/yuzhongchen/assignment/main/assignments/assignment-4/openrouter-domain.pddl -O openrouter-domain.pddl\n",
        "!wget https://raw.githubusercontent.com/yuzhongchen/assignment/main/assignments/assignment-4/openrouter-problem.pddl -O openrouter-problem.pddl"
      ],
      "metadata": {
        "id": "8h8o1bB-fFfQ",
        "outputId": "fbdab9c3-064b-45f5-c6e8-dc73d9ce1705",
        "colab": {
          "base_uri": "https://localhost:8080/"
        }
      },
      "execution_count": 38,
      "outputs": [
        {
          "output_type": "stream",
          "name": "stdout",
          "text": [
            "--2025-04-28 00:10:52--  https://raw.githubusercontent.com/yuzhongchen/assignment/main/assignments/assignment-4/openrouter-domain.pddl\n",
            "Resolving raw.githubusercontent.com (raw.githubusercontent.com)... 185.199.108.133, 185.199.109.133, 185.199.110.133, ...\n",
            "Connecting to raw.githubusercontent.com (raw.githubusercontent.com)|185.199.108.133|:443... connected.\n",
            "HTTP request sent, awaiting response... 200 OK\n",
            "Length: 485 [text/plain]\n",
            "Saving to: ‘openrouter-domain.pddl’\n",
            "\n",
            "openrouter-domain.p 100%[===================>]     485  --.-KB/s    in 0s      \n",
            "\n",
            "2025-04-28 00:10:52 (27.1 MB/s) - ‘openrouter-domain.pddl’ saved [485/485]\n",
            "\n",
            "--2025-04-28 00:10:52--  https://raw.githubusercontent.com/yuzhongchen/assignment/main/assignments/assignment-4/openrouter-problem.pddl\n",
            "Resolving raw.githubusercontent.com (raw.githubusercontent.com)... 185.199.108.133, 185.199.109.133, 185.199.110.133, ...\n",
            "Connecting to raw.githubusercontent.com (raw.githubusercontent.com)|185.199.108.133|:443... connected.\n",
            "HTTP request sent, awaiting response... 200 OK\n",
            "Length: 498 [text/plain]\n",
            "Saving to: ‘openrouter-problem.pddl’\n",
            "\n",
            "openrouter-problem. 100%[===================>]     498  --.-KB/s    in 0s      \n",
            "\n",
            "2025-04-28 00:10:53 (33.3 MB/s) - ‘openrouter-problem.pddl’ saved [498/498]\n",
            "\n"
          ]
        }
      ]
    },
    {
      "cell_type": "code",
      "execution_count": 41,
      "metadata": {
        "colab": {
          "base_uri": "https://localhost:8080/"
        },
        "id": "6E4ppJT6flEM",
        "outputId": "e7bf5090-ee86-4d9c-b48b-f64a8ae220ea"
      },
      "outputs": [
        {
          "output_type": "stream",
          "name": "stdout",
          "text": [
            "\u001b[96m  *** Credits ***\n",
            "\u001b[0m\u001b[96m  * In operation mode `OneshotPlanner` at line 13 of `<ipython-input-41-1f3cbf897b80>`, \u001b[0m\u001b[96myou are using the following planning engine:\n",
            "\u001b[0m\u001b[96m  * Engine name: pyperplan\n",
            "  * Developers:  Albert-Ludwigs-Universität Freiburg (Yusra Alkhazraji, Matthias Frorath, Markus Grützner, Malte Helmert, Thomas Liebetraut, Robert Mattmüller, Manuela Ortlieb, Jendrik Seipp, Tobias Springenberg, Philip Stahl, Jan Wülfing)\n",
            "\u001b[0m\u001b[96m  * Description: \u001b[0m\u001b[96mPyperplan is a lightweight STRIPS planner written in Python.\u001b[0m\u001b[96m\n",
            "\u001b[0m\u001b[96m\n",
            "\u001b[0mPyperplan returned: SequentialPlan:\n",
            "    move(l0, l1)\n",
            "    move(l1, l2)\n",
            "    move(l2, l3)\n",
            "    move(l3, l4)\n",
            "    move(l4, l5)\n",
            "    move(l5, l6)\n",
            "    move(l6, l7)\n",
            "    move(l7, l8)\n",
            "    move(l8, l9)\n"
          ]
        }
      ],
      "source": [
        "import unified_planning\n",
        "from unified_planning.io import PDDLReader\n",
        "from unified_planning.shortcuts import *\n",
        "\n",
        "reader = PDDLReader()\n",
        "problem = reader.parse_problem('openrouter-domain.pddl', 'openrouter-problem.pddl')\n",
        "\n",
        "# Now use the OneshotPlanner, which will have access to the registered engines\n",
        "# Instead of passing 'environment' directly, use the names argument.\n",
        "# The original code used names=['tamer', 'tamer', 'pyperplan'].\n",
        "# This is changed to only use 'fast-downward' to see if the problem\n",
        "# can be solved by a different engine.\n",
        "with OneshotPlanner(name='pyperplan') as planner:\n",
        "    result = planner.solve(problem)\n",
        "    if result.status == up.engines.PlanGenerationResultStatus.SOLVED_SATISFICING:\n",
        "        print(\"Pyperplan returned: %s\" % result.plan)\n",
        "    else:\n",
        "        print(\"No plan found.\")"
      ]
    },
    {
      "cell_type": "code",
      "source": [
        "# robot_react_agent.py\n",
        "\n",
        "from typing import List, Any, Dict\n",
        "from unified_planning.io import PDDLReader\n",
        "from unified_planning.shortcuts import OneshotPlanner\n",
        "from unified_planning.engines.results import POSITIVE_OUTCOMES\n",
        "\n",
        "# ─── 0. INLINE TOOL & AGENT BASE CLASSES ─────────────────────────────────────\n",
        "\n",
        "class Tool:\n",
        "    \"\"\"Base class for all tools.\"\"\"\n",
        "    def __init__(self, name: str, description: str):\n",
        "        self.name = name\n",
        "        self.description = description\n",
        "\n",
        "    def call(self, *args, **kwargs) -> Any:\n",
        "        \"\"\"Execute the tool. Override in subclasses.\"\"\"\n",
        "        raise NotImplementedError(f\"{self.name}.call() not implemented\")\n",
        "\n",
        "class Agent:\n",
        "    \"\"\"Minimal ReAct‐style agent shell with tool‐calling support.\"\"\"\n",
        "    def __init__(self, tools: List[Tool]):\n",
        "        self.tools: Dict[str, Tool] = {t.name: t for t in tools}\n",
        "\n",
        "    def call_tool(self, tool_name: str, *args, **kwargs) -> Any:\n",
        "        if tool_name not in self.tools:\n",
        "            raise ValueError(f\"Unknown tool: {tool_name}\")\n",
        "        return self.tools[tool_name].call(*args, **kwargs)\n",
        "\n",
        "# ─── 1. TOOL: PDDL PLANNING (file‐based) ─────────────────────────────────────\n",
        "\n",
        "class PDDLPlanningTool(Tool):\n",
        "    def __init__(self):\n",
        "        super().__init__(\n",
        "            name=\"pddl_planner\",\n",
        "            description=\"Read PDDL files and compute a plan as a list of action strings.\"\n",
        "        )\n",
        "\n",
        "    def call(self, domain_path: str, problem_path: str) -> List[str]:\n",
        "        # 1. Parse PDDL domain + problem from files\n",
        "        reader = PDDLReader()\n",
        "        problem = reader.parse_problem(domain_path, problem_path)\n",
        "\n",
        "        # 2. Solve with OneshotPlanner (auto‐selects a compatible engine)\n",
        "        with OneshotPlanner(problem_kind=problem.kind) as planner:\n",
        "            result = planner.solve(problem)\n",
        "\n",
        "        # 3. Return the sequence of ground actions, or empty if unsolvable\n",
        "        if result.status in POSITIVE_OUTCOMES and result.plan is not None:\n",
        "            # result.plan is a SequentialPlan; iterate its .actions\n",
        "            return [str(a) for a in result.plan.actions]\n",
        "        return []\n",
        "\n",
        "# ─── 2. TOOL: ENVIRONMENT SIMULATOR ────────────────────────────────────────────\n",
        "\n",
        "class EnvSimulatorTool(Tool):\n",
        "    def __init__(self, initial: str):\n",
        "        super().__init__(\n",
        "            name=\"env_simulator\",\n",
        "            description=\"Simulate robot moves; track and update current location.\"\n",
        "        )\n",
        "        self.position = initial\n",
        "\n",
        "    def call(self, action_step: str) -> str:\n",
        "        # Remove parentheses and commas, then split\n",
        "        cleaned = action_step.replace(\"(\", \" \") \\\n",
        "                             .replace(\")\", \" \") \\\n",
        "                             .replace(\",\", \" \")\n",
        "        tokens = cleaned.split()\n",
        "        if len(tokens) < 2:\n",
        "            raise ValueError(f\"Cannot parse move step: '{action_step}'\")\n",
        "        # Last two tokens are source and destination\n",
        "        src, dst = tokens[-2], tokens[-1]\n",
        "        if src != self.position:\n",
        "            raise AssertionError(f\"Precondition failed: at {self.position}, expected {src}\")\n",
        "        self.position = dst\n",
        "        return self.position\n",
        "\n",
        "# ─── 3. REACT AGENT IMPLEMENTATION ─────────────────────────────────────────────\n",
        "\n",
        "class RobotAgent(Agent):\n",
        "    def __init__(self, domain_file: str, problem_file: str, start_pos: str):\n",
        "        super().__init__(tools=[\n",
        "            PDDLPlanningTool(),\n",
        "            EnvSimulatorTool(initial=start_pos)\n",
        "        ])\n",
        "        self.domain_file = domain_file\n",
        "        self.problem_file = problem_file\n",
        "\n",
        "    def run(self):\n",
        "        # 1. Plan generation\n",
        "        print(\"Thought: I need a plan to reach the goal from my current position.\")\n",
        "        print(\"Action: pddl_planner\")\n",
        "        plan_steps = self.call_tool(\"pddl_planner\", self.domain_file, self.problem_file)\n",
        "        print(f\"Observation: Received plan → {plan_steps}\")\n",
        "\n",
        "        # 2. Execute plan steps\n",
        "        for step in plan_steps:\n",
        "            print(f\"Thought: I will execute '{step}'.\")\n",
        "            print(\"Action: env_simulator\")\n",
        "            new_loc = self.call_tool(\"env_simulator\", step)\n",
        "            print(f\"Observation: Robot moved to {new_loc}\")\n",
        "\n",
        "        print(\"Thought: I have reached the goal location. Task complete.\")\n",
        "\n",
        "# ─── 4. MAIN ENTRYPOINT ────────────────────────────────────────────────────────\n",
        "\n",
        "if __name__ == \"__main__\":\n",
        "    DOMAIN_FILE  = \"openrouter-domain.pddl\"\n",
        "    PROBLEM_FILE = \"openrouter-problem.pddl\"\n",
        "    agent = RobotAgent(DOMAIN_FILE, PROBLEM_FILE, start_pos=\"l0\")\n",
        "    agent.run()\n"
      ],
      "metadata": {
        "id": "BPq0UUxIv47m",
        "outputId": "873f04b1-ca05-428a-e76f-73dc36ffb2b6",
        "colab": {
          "base_uri": "https://localhost:8080/"
        }
      },
      "execution_count": 49,
      "outputs": [
        {
          "output_type": "stream",
          "name": "stdout",
          "text": [
            "Thought: I need a plan to reach the goal from my current position.\n",
            "Action: pddl_planner\n",
            "\u001b[96m  *** Credits ***\n",
            "\u001b[0m\u001b[96m  * In operation mode `OneshotPlanner` at line 45 of `<ipython-input-49-b902d88e3076>`, \u001b[0m\u001b[96myou are using the following planning engine:\n",
            "\u001b[0m\u001b[96m  * Engine name: pyperplan\n",
            "  * Developers:  Albert-Ludwigs-Universität Freiburg (Yusra Alkhazraji, Matthias Frorath, Markus Grützner, Malte Helmert, Thomas Liebetraut, Robert Mattmüller, Manuela Ortlieb, Jendrik Seipp, Tobias Springenberg, Philip Stahl, Jan Wülfing)\n",
            "\u001b[0m\u001b[96m  * Description: \u001b[0m\u001b[96mPyperplan is a lightweight STRIPS planner written in Python.\u001b[0m\u001b[96m\n",
            "\u001b[0m\u001b[96m\n",
            "\u001b[0mObservation: Received plan → ['move(l0, l1)', 'move(l1, l2)', 'move(l2, l3)', 'move(l3, l4)', 'move(l4, l5)', 'move(l5, l6)', 'move(l6, l7)', 'move(l7, l8)', 'move(l8, l9)']\n",
            "Thought: I will execute 'move(l0, l1)'.\n",
            "Action: env_simulator\n",
            "Observation: Robot moved to l1\n",
            "Thought: I will execute 'move(l1, l2)'.\n",
            "Action: env_simulator\n",
            "Observation: Robot moved to l2\n",
            "Thought: I will execute 'move(l2, l3)'.\n",
            "Action: env_simulator\n",
            "Observation: Robot moved to l3\n",
            "Thought: I will execute 'move(l3, l4)'.\n",
            "Action: env_simulator\n",
            "Observation: Robot moved to l4\n",
            "Thought: I will execute 'move(l4, l5)'.\n",
            "Action: env_simulator\n",
            "Observation: Robot moved to l5\n",
            "Thought: I will execute 'move(l5, l6)'.\n",
            "Action: env_simulator\n",
            "Observation: Robot moved to l6\n",
            "Thought: I will execute 'move(l6, l7)'.\n",
            "Action: env_simulator\n",
            "Observation: Robot moved to l7\n",
            "Thought: I will execute 'move(l7, l8)'.\n",
            "Action: env_simulator\n",
            "Observation: Robot moved to l8\n",
            "Thought: I will execute 'move(l8, l9)'.\n",
            "Action: env_simulator\n",
            "Observation: Robot moved to l9\n",
            "Thought: I have reached the goal location. Task complete.\n"
          ]
        }
      ]
    }
  ],
  "metadata": {
    "colab": {
      "provenance": []
    },
    "kernelspec": {
      "display_name": ".venv",
      "language": "python",
      "name": "python3"
    },
    "language_info": {
      "codemirror_mode": {
        "name": "ipython",
        "version": 3
      },
      "file_extension": ".py",
      "mimetype": "text/x-python",
      "name": "python",
      "nbconvert_exporter": "python",
      "pygments_lexer": "ipython3",
      "version": "3.9.20"
    }
  },
  "nbformat": 4,
  "nbformat_minor": 0
}